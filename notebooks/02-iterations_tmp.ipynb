{
  "cells": [
    {
      "cell_type": "markdown",
      "metadata": {
        "tags": [],
        "id": "G1vbYGAeyXG1"
      },
      "source": [
        "# Iterations\n",
        "### 4/11/2022\n"
      ]
    },
    {
      "cell_type": "code",
      "execution_count": 90,
      "metadata": {
        "id": "h_h9fv26yXG9"
      },
      "outputs": [],
      "source": [
        "# Lists we're going to need\n",
        "\n",
        "galaxy_names = [\"NGC 5128\", \"TXS 0506+056\", \"NGC 1068\", \"GB6 J1040+0617\", \"TXS 2226-184\"]\n",
        "distances_mpc = [3.7, 1.75e3, 14.4, 1.51e4, 107.1]  # Mpc\n",
        "luminosities = [1e40, 3e46, 4.9e38, 6.2e45, 5.5e41] # erg/s"
      ]
    },
    {
      "cell_type": "code",
      "source": [
        "print(list(range(60,80)))"
      ],
      "metadata": {
        "id": "uO_3vcU006qS",
        "outputId": "497e20b0-71ac-4e12-88e1-f76afc16d1c9",
        "colab": {
          "base_uri": "https://localhost:8080/"
        }
      },
      "execution_count": 10,
      "outputs": [
        {
          "output_type": "stream",
          "name": "stdout",
          "text": [
            "[60, 61, 62, 63, 64, 65, 66, 67, 68, 69, 70, 71, 72, 73, 74, 75, 76, 77, 78, 79]\n"
          ]
        }
      ]
    },
    {
      "cell_type": "code",
      "source": [
        "print(list(range(80,3,-1)))\n",
        "#stops at 4 cuz second nr is 3 "
      ],
      "metadata": {
        "id": "5odIfztf084m",
        "outputId": "bedeb394-0148-46f5-e654-2525f456d92b",
        "colab": {
          "base_uri": "https://localhost:8080/"
        }
      },
      "execution_count": 9,
      "outputs": [
        {
          "output_type": "stream",
          "name": "stdout",
          "text": [
            "[80, 79, 78, 77, 76, 75, 74, 73, 72, 71, 70, 69, 68, 67, 66, 65, 64, 63, 62, 61, 60, 59, 58, 57, 56, 55, 54, 53, 52, 51, 50, 49, 48, 47, 46, 45, 44, 43, 42, 41, 40, 39, 38, 37, 36, 35, 34, 33, 32, 31, 30, 29, 28, 27, 26, 25, 24, 23, 22, 21, 20, 19, 18, 17, 16, 15, 14, 13, 12, 11, 10, 9, 8, 7, 6, 5, 4]\n"
          ]
        }
      ]
    },
    {
      "cell_type": "code",
      "source": [
        "for i in range(len(galaxy_names)) :\n",
        "  #b=galaxy_names(i)\n",
        "\n",
        "  print (f\"galaxy {galaxy_names[i]} is in position {i}\")"
      ],
      "metadata": {
        "id": "9sYsgrhf1NFQ",
        "outputId": "a1550414-eedc-48ea-95cb-261971e5c5af",
        "colab": {
          "base_uri": "https://localhost:8080/"
        }
      },
      "execution_count": 17,
      "outputs": [
        {
          "output_type": "stream",
          "name": "stdout",
          "text": [
            "galaxy NGC 5128 is in position 0\n",
            "galaxy TXS 0506+056 is in position 1\n",
            "galaxy NGC 1068 is in position 2\n",
            "galaxy GB6 J1040+0617 is in position 3\n",
            "galaxy TXS 2226-184 is in position 4\n"
          ]
        }
      ]
    },
    {
      "cell_type": "code",
      "source": [
        "for i in range(len(galaxy_names)) :\n",
        "#for parameters in zip (galaxy_names\n",
        "\n",
        "  print (f\"galaxy {galaxy_names[i]:15s} is in position\\\n",
        "  {i:d} and lies at distance {distances_mpc[i]:.4f} mpc\")\n",
        "\n",
        "print(\"Done\")"
      ],
      "metadata": {
        "id": "xEsXD8fJ21U7",
        "outputId": "61687d7a-5b46-4d9e-8a7e-a89574ea08af",
        "colab": {
          "base_uri": "https://localhost:8080/"
        }
      },
      "execution_count": 30,
      "outputs": [
        {
          "output_type": "stream",
          "name": "stdout",
          "text": [
            "galaxy NGC 5128        is in position  0 and lies at distance 3.7000 mpc\n",
            "galaxy TXS 0506+056    is in position  1 and lies at distance 1750.0000 mpc\n",
            "galaxy NGC 1068        is in position  2 and lies at distance 14.4000 mpc\n",
            "galaxy GB6 J1040+0617  is in position  3 and lies at distance 15100.0000 mpc\n",
            "galaxy TXS 2226-184    is in position  4 and lies at distance 107.1000 mpc\n",
            "Done\n"
          ]
        }
      ]
    },
    {
      "cell_type": "code",
      "source": [
        "for i, name in enumerate(galaxy_names) :\n",
        "  #b=galaxy_names(i)\n",
        "print (f\"Galaxy {name:15s} is in position {i}\")\n",
        "  #print (f\"galaxy {galaxy_names[i]} is in position {i}\")"
      ],
      "metadata": {
        "id": "dn998I_-3Fy8"
      },
      "execution_count": null,
      "outputs": []
    },
    {
      "cell_type": "code",
      "source": [
        "for i, name, dist, lum in enumerate(zip(galaxy_names, distances_mpc, luminosities)):\n",
        "  print(f\"position{i}:Galaxy{name:15s} at D={dist:5.2e} Mpc and has L={lum}\")"
      ],
      "metadata": {
        "id": "ivFBl5SY6MPp"
      },
      "execution_count": 60,
      "outputs": []
    },
    {
      "cell_type": "code",
      "source": [
        "distances_mpc = []\n",
        "for dist in distances_mpc:\n",
        "    distances_mpc.append(dist * 3e24)\n",
        "print(distances_mpc) \n",
        "\n"
      ],
      "metadata": {
        "colab": {
          "base_uri": "https://localhost:8080/"
        },
        "id": "To6nMc7M7ex0",
        "outputId": "c952a25b-37e9-4f04-ded7-7a60749a2186"
      },
      "execution_count": 78,
      "outputs": [
        {
          "output_type": "stream",
          "name": "stdout",
          "text": [
            "[]\n"
          ]
        }
      ]
    },
    {
      "cell_type": "code",
      "source": [
        "short_distances_mpc=[]\n",
        "for dist in distances_mpc:\n",
        "    short_distances_mpc.append(dist * 3e24)\n",
        "print(short_distances_mpc)"
      ],
      "metadata": {
        "outputId": "d1f3b04f-6c55-4a30-a6fb-5634c256e6ce",
        "colab": {
          "base_uri": "https://localhost:8080/"
        },
        "id": "8Qy8cRwg8ESV"
      },
      "execution_count": 79,
      "outputs": [
        {
          "output_type": "stream",
          "name": "stdout",
          "text": [
            "[]\n"
          ]
        }
      ]
    },
    {
      "cell_type": "code",
      "source": [
        "distances_cm=[dist*3e23 for dist in distances_mpc]\n",
        "print(distances_cm)"
      ],
      "metadata": {
        "id": "vNsleN_F9qNy",
        "outputId": "5089117a-747f-40c9-fe3a-f4c6202dae5d",
        "colab": {
          "base_uri": "https://localhost:8080/"
        }
      },
      "execution_count": 75,
      "outputs": [
        {
          "output_type": "stream",
          "name": "stdout",
          "text": [
            "[1.1100000000000001e+24, 5.25e+26, 4.3200000000000003e+24, 4.53e+27, 3.213e+25]\n"
          ]
        }
      ]
    },
    {
      "cell_type": "code",
      "source": [
        "%%timeit\n",
        "xarr=[]\n",
        "for i in range(100000000):\n",
        "  xarr.append(i))\n",
        "\n",
        "\n"
      ],
      "metadata": {
        "id": "FB6zC7pl98VU",
        "outputId": "65e6adbd-b28c-4d4f-a8f4-431741c4c1cc",
        "colab": {
          "base_uri": "https://localhost:8080/",
          "height": 535
        }
      },
      "execution_count": 87,
      "outputs": [
        {
          "output_type": "error",
          "ename": "SyntaxError",
          "evalue": "ignored",
          "traceback": [
            "Traceback \u001b[0;36m(most recent call last)\u001b[0m:\n",
            "  File \u001b[1;32m\"/usr/local/lib/python3.7/dist-packages/IPython/core/interactiveshell.py\"\u001b[0m, line \u001b[1;32m3326\u001b[0m, in \u001b[1;35mrun_code\u001b[0m\n    exec(code_obj, self.user_global_ns, self.user_ns)\n",
            "  File \u001b[1;32m\"<ipython-input-87-ce2593c28a8a>\"\u001b[0m, line \u001b[1;32m1\u001b[0m, in \u001b[1;35m<module>\u001b[0m\n    get_ipython().run_cell_magic('timeit', '', 'xarr=[]\\nfor i in range(100000000):\\n  xarr.append(i))\\n\\n\\n')\n",
            "  File \u001b[1;32m\"/usr/local/lib/python3.7/dist-packages/IPython/core/interactiveshell.py\"\u001b[0m, line \u001b[1;32m2359\u001b[0m, in \u001b[1;35mrun_cell_magic\u001b[0m\n    result = fn(*args, **kwargs)\n",
            "  File \u001b[1;32m\"<decorator-gen-53>\"\u001b[0m, line \u001b[1;32m2\u001b[0m, in \u001b[1;35mtimeit\u001b[0m\n",
            "  File \u001b[1;32m\"/usr/local/lib/python3.7/dist-packages/IPython/core/magic.py\"\u001b[0m, line \u001b[1;32m187\u001b[0m, in \u001b[1;35m<lambda>\u001b[0m\n    call = lambda f, *a, **k: f(*a, **k)\n",
            "  File \u001b[1;32m\"/usr/local/lib/python3.7/dist-packages/IPython/core/magics/execution.py\"\u001b[0m, line \u001b[1;32m1104\u001b[0m, in \u001b[1;35mtimeit\u001b[0m\n    ast_stmt = self.shell.compile.ast_parse(transform(cell))\n",
            "\u001b[0;36m  File \u001b[0;32m\"/usr/local/lib/python3.7/dist-packages/IPython/core/compilerop.py\"\u001b[0;36m, line \u001b[0;32m101\u001b[0;36m, in \u001b[0;35mast_parse\u001b[0;36m\u001b[0m\n\u001b[0;31m    return compile(source, filename, symbol, self.flags | PyCF_ONLY_AST, 1)\u001b[0m\n",
            "\u001b[0;36m  File \u001b[0;32m\"<unknown>\"\u001b[0;36m, line \u001b[0;32m3\u001b[0m\n\u001b[0;31m    xarr.append(i))\u001b[0m\n\u001b[0m                  ^\u001b[0m\n\u001b[0;31mSyntaxError\u001b[0m\u001b[0;31m:\u001b[0m invalid syntax\n"
          ]
        }
      ]
    },
    {
      "cell_type": "code",
      "source": [
        "short_distances_cm = [x * 3e24 for x in distances_mpc if x<100]\n",
        "print(short_distances_cm)"
      ],
      "metadata": {
        "colab": {
          "base_uri": "https://localhost:8080/"
        },
        "id": "USKmt-miAB5j",
        "outputId": "f6d2ec46-d31f-4123-c86b-e4ed7c23bc3b"
      },
      "execution_count": 94,
      "outputs": [
        {
          "output_type": "stream",
          "name": "stdout",
          "text": [
            "[1.11e+25, 4.32e+25]\n"
          ]
        }
      ]
    },
    {
      "cell_type": "code",
      "source": [
        "close_galaxy_names = [name for name, dist in zip(galaxy_names,\n",
        "                                                distances_mpc) if dist < 100]\n",
        "print(close_galaxy_names)\n"
      ],
      "metadata": {
        "id": "PMWud62I_1KS",
        "outputId": "3e669259-d1a6-459b-c2f8-1c74892c7119",
        "colab": {
          "base_uri": "https://localhost:8080/"
        }
      },
      "execution_count": 95,
      "outputs": [
        {
          "output_type": "stream",
          "name": "stdout",
          "text": [
            "['NGC 5128', 'NGC 1068']\n"
          ]
        }
      ]
    },
    {
      "cell_type": "code",
      "source": [
        "len(close_galaxy_names)"
      ],
      "metadata": {
        "id": "UCUdxEc2CKKc",
        "outputId": "72370a7e-d205-4b2e-8abc-b78ab34b289e",
        "colab": {
          "base_uri": "https://localhost:8080/"
        }
      },
      "execution_count": 97,
      "outputs": [
        {
          "output_type": "execute_result",
          "data": {
            "text/plain": [
              "2"
            ]
          },
          "metadata": {},
          "execution_count": 97
        }
      ]
    },
    {
      "cell_type": "code",
      "source": [
        "count = 0\n",
        "for dist in distances_mpc:\n",
        "  if dist <100:\n",
        "    count += 1\n",
        "print(count)"
      ],
      "metadata": {
        "id": "eyklP-VmByZM",
        "outputId": "39e8d804-afdd-43b0-ec3a-0958c139d03c",
        "colab": {
          "base_uri": "https://localhost:8080/"
        }
      },
      "execution_count": 96,
      "outputs": [
        {
          "output_type": "stream",
          "name": "stdout",
          "text": [
            "2\n"
          ]
        }
      ]
    },
    {
      "cell_type": "code",
      "source": [
        "for dist in distances_mpc: #find first galaxy that  he fisrt (???) \n",
        "   if dist>100:\n",
        "     print(f\"found it: distance {dist} mpc \")\n",
        "     break  #when reaches first stops \n"
      ],
      "metadata": {
        "id": "DYD1jgrhCN4y",
        "outputId": "700fd57d-f28c-421c-a545-5e81eef55900",
        "colab": {
          "base_uri": "https://localhost:8080/"
        }
      },
      "execution_count": 98,
      "outputs": [
        {
          "output_type": "stream",
          "name": "stdout",
          "text": [
            "found it: distance 1750.0 \n"
          ]
        }
      ]
    },
    {
      "cell_type": "code",
      "source": [
        "for i in range(4):\n",
        "  for j in range(4):\n",
        "    if j==2:\n",
        "      break  \n",
        "    print(f\"{i} and {j}\")\n",
        "\n"
      ],
      "metadata": {
        "id": "xXUvPnHmCuiq",
        "outputId": "c9342544-0531-4b9f-f91b-db9ed13b1b1c",
        "colab": {
          "base_uri": "https://localhost:8080/"
        }
      },
      "execution_count": 118,
      "outputs": [
        {
          "output_type": "stream",
          "name": "stdout",
          "text": [
            "0 and 0\n",
            "0 and 1\n",
            "1 and 0\n",
            "1 and 1\n",
            "2 and 0\n",
            "2 and 1\n",
            "3 and 0\n",
            "3 and 1\n"
          ]
        }
      ]
    },
    {
      "cell_type": "code",
      "source": [
        "for i in range(4):\n",
        "  for j in range(4):\n",
        "    if j==2:\n",
        "      continue \n",
        "    print(f\"{i} and {j}\")\n"
      ],
      "metadata": {
        "id": "tblCrPwzEbgm",
        "outputId": "48a8136d-4a7b-4043-a731-75207457ca4c",
        "colab": {
          "base_uri": "https://localhost:8080/"
        }
      },
      "execution_count": 125,
      "outputs": [
        {
          "output_type": "stream",
          "name": "stdout",
          "text": [
            "0 and 0\n",
            "0 and 1\n",
            "0 and 3\n",
            "1 and 0\n",
            "1 and 1\n",
            "1 and 3\n",
            "2 and 0\n",
            "2 and 1\n",
            "2 and 3\n",
            "3 and 0\n",
            "3 and 1\n",
            "3 and 3\n"
          ]
        }
      ]
    },
    {
      "cell_type": "code",
      "source": [
        "galaxy_luminosity={}\n",
        "for name, lum in zip(galaxy names, luminosities)\n",
        "  galaxy_luminosity[name] = lum:\n",
        "  print(galaxy_luminosity{name}) "
      ],
      "metadata": {
        "id": "VQADRTyRFFad",
        "outputId": "e9a52a59-b3eb-4a3c-a75b-505246e2a99d",
        "colab": {
          "base_uri": "https://localhost:8080/",
          "height": 153
        }
      },
      "execution_count": 128,
      "outputs": [
        {
          "output_type": "error",
          "ename": "SyntaxError",
          "evalue": "ignored",
          "traceback": [
            "\u001b[0;36m  File \u001b[0;32m\"<ipython-input-128-c9066002cf9c>\"\u001b[0;36m, line \u001b[0;32m2\u001b[0m\n\u001b[0;31m    for name, lum in zip(galaxy names, luminosities)\u001b[0m\n\u001b[0m                                    ^\u001b[0m\n\u001b[0;31mSyntaxError\u001b[0m\u001b[0;31m:\u001b[0m invalid syntax\n"
          ]
        }
      ]
    }
  ],
  "metadata": {
    "kernelspec": {
      "display_name": "Python 3",
      "language": "python",
      "name": "python3"
    },
    "language_info": {
      "codemirror_mode": {
        "name": "ipython",
        "version": 3
      },
      "file_extension": ".py",
      "mimetype": "text/x-python",
      "name": "python",
      "nbconvert_exporter": "python",
      "pygments_lexer": "ipython3",
      "version": "3.9.12"
    },
    "vscode": {
      "interpreter": {
        "hash": "ad60ba3d6748ebfd779dff164ecdca54fbf007dbac97c522a9077ed5230659e8"
      }
    },
    "colab": {
      "provenance": []
    }
  },
  "nbformat": 4,
  "nbformat_minor": 0
}